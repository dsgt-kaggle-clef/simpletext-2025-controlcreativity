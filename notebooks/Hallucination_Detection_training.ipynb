{
 "cells": [
  {
   "cell_type": "code",
   "execution_count": 2,
   "id": "b9a178e3",
   "metadata": {},
   "outputs": [
    {
     "name": "stderr",
     "output_type": "stream",
     "text": [
      "/storage/home/hcoda1/1/helwazzan3/miniconda3/envs/simpletext/lib/python3.13/site-packages/tqdm/auto.py:21: TqdmWarning: IProgress not found. Please update jupyter and ipywidgets. See https://ipywidgets.readthedocs.io/en/stable/user_install.html\n",
      "  from .autonotebook import tqdm as notebook_tqdm\n"
     ]
    }
   ],
   "source": [
    "import json, os, pandas as pd, numpy as np, csv\n",
    "import requests\n",
    "import io\n",
    "import tarfile\n",
    "import zipfile\n",
    "from datasets import load_dataset"
   ]
  },
  {
   "cell_type": "markdown",
   "id": "91309c7d",
   "metadata": {},
   "source": [
    "### Load data for Hallucination Detection training"
   ]
  },
  {
   "cell_type": "code",
   "execution_count": 3,
   "id": "48dc40cb",
   "metadata": {},
   "outputs": [
    {
     "data": {
      "text/html": [
       "<div>\n",
       "<style scoped>\n",
       "    .dataframe tbody tr th:only-of-type {\n",
       "        vertical-align: middle;\n",
       "    }\n",
       "\n",
       "    .dataframe tbody tr th {\n",
       "        vertical-align: top;\n",
       "    }\n",
       "\n",
       "    .dataframe thead th {\n",
       "        text-align: right;\n",
       "    }\n",
       "</style>\n",
       "<table border=\"1\" class=\"dataframe\">\n",
       "  <thead>\n",
       "    <tr style=\"text-align: right;\">\n",
       "      <th></th>\n",
       "      <th>id</th>\n",
       "      <th>grounding</th>\n",
       "      <th>generated_text</th>\n",
       "      <th>label</th>\n",
       "      <th>cut</th>\n",
       "      <th>dataset_origin</th>\n",
       "    </tr>\n",
       "  </thead>\n",
       "  <tbody>\n",
       "    <tr>\n",
       "      <th>0</th>\n",
       "      <td>qags_cnndm0</td>\n",
       "      <td>( cnn ) about 20 hours after the boston marath...</td>\n",
       "      <td>He is a venezuelan dystrophy. He was the last ...</td>\n",
       "      <td>0</td>\n",
       "      <td>test</td>\n",
       "      <td>qags_cnndm</td>\n",
       "    </tr>\n",
       "    <tr>\n",
       "      <th>1</th>\n",
       "      <td>qags_cnndm1</td>\n",
       "      <td>( cnn ) after more than nine years of travelin...</td>\n",
       "      <td>New horizons will shed light on a third zone o...</td>\n",
       "      <td>1</td>\n",
       "      <td>val</td>\n",
       "      <td>qags_cnndm</td>\n",
       "    </tr>\n",
       "    <tr>\n",
       "      <th>2</th>\n",
       "      <td>qags_cnndm2</td>\n",
       "      <td>( cnn ) call it a little piece of heaven for a...</td>\n",
       "      <td>Sharry was eight months pregnant. Smith fell a...</td>\n",
       "      <td>0</td>\n",
       "      <td>val</td>\n",
       "      <td>qags_cnndm</td>\n",
       "    </tr>\n",
       "    <tr>\n",
       "      <th>3</th>\n",
       "      <td>qags_cnndm3</td>\n",
       "      <td>( cnn ) comedian chris rock made light of raci...</td>\n",
       "      <td>A new york grand jury's decision not to indict...</td>\n",
       "      <td>0</td>\n",
       "      <td>val</td>\n",
       "      <td>qags_cnndm</td>\n",
       "    </tr>\n",
       "    <tr>\n",
       "      <th>4</th>\n",
       "      <td>qags_cnndm4</td>\n",
       "      <td>( cnn ) debates on climate change can break do...</td>\n",
       "      <td>Climate change can be used to public health is...</td>\n",
       "      <td>0</td>\n",
       "      <td>val</td>\n",
       "      <td>qags_cnndm</td>\n",
       "    </tr>\n",
       "  </tbody>\n",
       "</table>\n",
       "</div>"
      ],
      "text/plain": [
       "            id                                          grounding  \\\n",
       "0  qags_cnndm0  ( cnn ) about 20 hours after the boston marath...   \n",
       "1  qags_cnndm1  ( cnn ) after more than nine years of travelin...   \n",
       "2  qags_cnndm2  ( cnn ) call it a little piece of heaven for a...   \n",
       "3  qags_cnndm3  ( cnn ) comedian chris rock made light of raci...   \n",
       "4  qags_cnndm4  ( cnn ) debates on climate change can break do...   \n",
       "\n",
       "                                      generated_text  label   cut  \\\n",
       "0  He is a venezuelan dystrophy. He was the last ...      0  test   \n",
       "1  New horizons will shed light on a third zone o...      1   val   \n",
       "2  Sharry was eight months pregnant. Smith fell a...      0   val   \n",
       "3  A new york grand jury's decision not to indict...      0   val   \n",
       "4  Climate change can be used to public health is...      0   val   \n",
       "\n",
       "  dataset_origin  \n",
       "0     qags_cnndm  \n",
       "1     qags_cnndm  \n",
       "2     qags_cnndm  \n",
       "3     qags_cnndm  \n",
       "4     qags_cnndm  "
      ]
     },
     "execution_count": 3,
     "metadata": {},
     "output_type": "execute_result"
    }
   ],
   "source": [
    "# Directory where the CSV files are stored\n",
    "data_dir = os.path.join(os.path.dirname(os.getcwd()), 'data')\n",
    "\n",
    "# List all CSV files in the directory\n",
    "csv_files = [f for f in os.listdir(data_dir) if f.endswith('.csv')]\n",
    "\n",
    "# Load all CSV files into a single DataFrame\n",
    "df_list = []\n",
    "for file in csv_files:\n",
    "    file_path = os.path.join(data_dir, file)\n",
    "    df = pd.read_csv(file_path)\n",
    "    df_list.append(df)\n",
    "\n",
    "# Concatenate all DataFrames\n",
    "training_df = pd.concat(df_list, ignore_index=True)\n",
    "\n",
    "# Display the first few rows of the combined DataFrame\n",
    "training_df.head()"
   ]
  },
  {
   "cell_type": "code",
   "execution_count": null,
   "id": "07cc00c0",
   "metadata": {},
   "outputs": [
    {
     "name": "stdout",
     "output_type": "stream",
     "text": [
      "cut\n",
      "val     84152\n",
      "test    38224\n",
      "Name: count, dtype: int64\n",
      "val can be used for training the model and test can be used for evaluation the performance\n"
     ]
    }
   ],
   "source": [
    "# Get the counts of val and test data\n",
    "val_test_spit = training_df['cut'].value_counts()\n",
    "\n",
    "# Display the counts\n",
    "print(val_test_spit)\n",
    "\n",
    "print(\"val can be used for training the model and test can be used for evaluating the performance\")"
   ]
  },
  {
   "cell_type": "code",
   "execution_count": 5,
   "id": "d27a5bcc",
   "metadata": {},
   "outputs": [
    {
     "data": {
      "text/plain": [
       "dataset_origin\n",
       "Vitamin C     63054\n",
       "HaluEval      20000\n",
       "Fever         19998\n",
       "PAWS           8000\n",
       "XSumFaith      2353\n",
       "SummEval       1698\n",
       "FactCC         1434\n",
       "FRANK          1393\n",
       "Polytope       1268\n",
       "Cao22           696\n",
       "CLIFF           600\n",
       "TofuEval        534\n",
       "Wang20          474\n",
       "samsum          250\n",
       "qags_xsum       239\n",
       "qags_cnndm      235\n",
       "Goyal21         150\n",
       "Name: count, dtype: int64"
      ]
     },
     "execution_count": 5,
     "metadata": {},
     "output_type": "execute_result"
    }
   ],
   "source": [
    "# Get the counts by dataset origin\n",
    "training_df['dataset_origin'].value_counts()"
   ]
  },
  {
   "cell_type": "code",
   "execution_count": 9,
   "id": "f2dd390b",
   "metadata": {},
   "outputs": [],
   "source": [
    "# save train, val and test to dir data/combined\n",
    "val_df = training_df[training_df['cut'] == 'val']\n",
    "test_df = training_df[training_df['cut'] == 'test']\n",
    "os.makedirs(os.path.join(data_dir, 'combined'), exist_ok=True)\n",
    "\n",
    "# Save the split DataFrames to CSV files\n",
    "val_df.to_csv(os.path.join(data_dir, 'combined', 'val.csv'), index=False)\n",
    "test_df.to_csv(os.path.join(data_dir, 'combined', 'test.csv'), index=False)\n"
   ]
  },
  {
   "cell_type": "code",
   "execution_count": 10,
   "id": "ed632128",
   "metadata": {},
   "outputs": [
    {
     "name": "stdout",
     "output_type": "stream",
     "text": [
      "Train DataFrame:\n",
      "Validation DataFrame:\n",
      "            id                                          grounding  \\\n",
      "0  qags_cnndm1  ( cnn ) after more than nine years of travelin...   \n",
      "1  qags_cnndm2  ( cnn ) call it a little piece of heaven for a...   \n",
      "2  qags_cnndm3  ( cnn ) comedian chris rock made light of raci...   \n",
      "3  qags_cnndm4  ( cnn ) debates on climate change can break do...   \n",
      "4  qags_cnndm5  ( cnn ) did former new england patriot aaron h...   \n",
      "\n",
      "                                      generated_text  label  cut  \\\n",
      "0  New horizons will shed light on a third zone o...      1  val   \n",
      "1  Sharry was eight months pregnant. Smith fell a...      0  val   \n",
      "2  A new york grand jury's decision not to indict...      0  val   \n",
      "3  Climate change can be used to public health is...      0  val   \n",
      "4  Aaron hernandez has pleaded not guilty to murd...      0  val   \n",
      "\n",
      "  dataset_origin  \n",
      "0     qags_cnndm  \n",
      "1     qags_cnndm  \n",
      "2     qags_cnndm  \n",
      "3     qags_cnndm  \n",
      "4     qags_cnndm  \n",
      "Test DataFrame:\n",
      "             id                                          grounding  \\\n",
      "0   qags_cnndm0  ( cnn ) about 20 hours after the boston marath...   \n",
      "1   qags_cnndm7  ( cnn ) for years, when i'd tell new friends i...   \n",
      "2  qags_cnndm11  ( cnn ) just about now, north korea's enigmati...   \n",
      "3  qags_cnndm12  ( cnn ) lady antebellum singer hillary scott's...   \n",
      "4  qags_cnndm13  ( cnn ) north korea is in the headlines again....   \n",
      "\n",
      "                                      generated_text  label   cut  \\\n",
      "0  He is a venezuelan dystrophy. He was the last ...      0  test   \n",
      "1  Cher and turks were killed during the 100th an...      0  test   \n",
      "2  Kremlin says the trip had been canceled. North...      1  test   \n",
      "3  Barnett said he didn't know what to expect. La...      1  test   \n",
      "4  Chinese estimate of 20 warheads is in a positi...      0  test   \n",
      "\n",
      "  dataset_origin  \n",
      "0     qags_cnndm  \n",
      "1     qags_cnndm  \n",
      "2     qags_cnndm  \n",
      "3     qags_cnndm  \n",
      "4     qags_cnndm  \n",
      "Counts of each split:\n",
      "Validation: 84152\n",
      "Test: 38224\n"
     ]
    }
   ],
   "source": [
    "# verify the saved files\n",
    "val_df_verify = pd.read_csv(os.path.join(data_dir, 'combined', 'val.csv'))\n",
    "test_df_verify = pd.read_csv(os.path.join(data_dir, 'combined', 'test.csv'))\n",
    "# Display the first few rows of the verified DataFrames\n",
    "print(\"Train DataFrame:\")\n",
    "print(\"Validation DataFrame:\")\n",
    "print(val_df_verify.head())\n",
    "print(\"Test DataFrame:\")\n",
    "print(test_df_verify.head())\n",
    "# Display the counts of each split to verify\n",
    "print(\"Counts of each split:\")\n",
    "print(\"Validation:\", len(val_df_verify))\n",
    "print(\"Test:\", len(test_df_verify))"
   ]
  }
 ],
 "metadata": {
  "kernelspec": {
   "display_name": "simpletext",
   "language": "python",
   "name": "python3"
  },
  "language_info": {
   "codemirror_mode": {
    "name": "ipython",
    "version": 3
   },
   "file_extension": ".py",
   "mimetype": "text/x-python",
   "name": "python",
   "nbconvert_exporter": "python",
   "pygments_lexer": "ipython3",
   "version": "3.13.2"
  }
 },
 "nbformat": 4,
 "nbformat_minor": 5
}
