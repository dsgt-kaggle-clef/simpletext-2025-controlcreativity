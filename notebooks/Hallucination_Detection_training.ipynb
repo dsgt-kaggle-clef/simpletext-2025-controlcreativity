{
 "cells": [
  {
   "cell_type": "code",
   "execution_count": 4,
   "id": "b9a178e3",
   "metadata": {},
   "outputs": [],
   "source": [
    "import json, os, pandas as pd, numpy as np, csv\n",
    "import requests\n",
    "import io\n",
    "import tarfile\n",
    "import zipfile\n",
    "from datasets import load_dataset"
   ]
  },
  {
   "cell_type": "markdown",
   "id": "91309c7d",
   "metadata": {},
   "source": [
    "### Load data for Hallucination Detection training"
   ]
  },
  {
   "cell_type": "code",
   "execution_count": 5,
   "id": "48dc40cb",
   "metadata": {},
   "outputs": [
    {
     "data": {
      "text/html": [
       "<div>\n",
       "<style scoped>\n",
       "    .dataframe tbody tr th:only-of-type {\n",
       "        vertical-align: middle;\n",
       "    }\n",
       "\n",
       "    .dataframe tbody tr th {\n",
       "        vertical-align: top;\n",
       "    }\n",
       "\n",
       "    .dataframe thead th {\n",
       "        text-align: right;\n",
       "    }\n",
       "</style>\n",
       "<table border=\"1\" class=\"dataframe\">\n",
       "  <thead>\n",
       "    <tr style=\"text-align: right;\">\n",
       "      <th></th>\n",
       "      <th>id</th>\n",
       "      <th>grounding</th>\n",
       "      <th>generated_text</th>\n",
       "      <th>label</th>\n",
       "      <th>cut</th>\n",
       "      <th>dataset_origin</th>\n",
       "    </tr>\n",
       "  </thead>\n",
       "  <tbody>\n",
       "    <tr>\n",
       "      <th>0</th>\n",
       "      <td>qags_xsum0</td>\n",
       "      <td>A 12,000-seater music venue on the temple mead...</td>\n",
       "      <td>A 10,000-seater entertainment arena could be b...</td>\n",
       "      <td>0</td>\n",
       "      <td>val</td>\n",
       "      <td>qags_xsum</td>\n",
       "    </tr>\n",
       "    <tr>\n",
       "      <th>1</th>\n",
       "      <td>qags_xsum1</td>\n",
       "      <td>A 17th century pub in oxfordshire has been bou...</td>\n",
       "      <td>A pub in a devon village is to reopen as a fre...</td>\n",
       "      <td>0</td>\n",
       "      <td>val</td>\n",
       "      <td>qags_xsum</td>\n",
       "    </tr>\n",
       "    <tr>\n",
       "      <th>2</th>\n",
       "      <td>qags_xsum2</td>\n",
       "      <td>A 23-year-old man has died after being shot in...</td>\n",
       "      <td>A 25-year-old man has been shot dead in sheffi...</td>\n",
       "      <td>0</td>\n",
       "      <td>test</td>\n",
       "      <td>qags_xsum</td>\n",
       "    </tr>\n",
       "    <tr>\n",
       "      <th>3</th>\n",
       "      <td>qags_xsum3</td>\n",
       "      <td>A 52 million-year-old fruit fossil has been di...</td>\n",
       "      <td>The fossilised remains of a coal miner's apple...</td>\n",
       "      <td>0</td>\n",
       "      <td>val</td>\n",
       "      <td>qags_xsum</td>\n",
       "    </tr>\n",
       "    <tr>\n",
       "      <th>4</th>\n",
       "      <td>qags_xsum4</td>\n",
       "      <td>A 55-year-old woman has died after a couple be...</td>\n",
       "      <td>A woman has been seriously injured after a lor...</td>\n",
       "      <td>0</td>\n",
       "      <td>val</td>\n",
       "      <td>qags_xsum</td>\n",
       "    </tr>\n",
       "  </tbody>\n",
       "</table>\n",
       "</div>"
      ],
      "text/plain": [
       "           id                                          grounding  \\\n",
       "0  qags_xsum0  A 12,000-seater music venue on the temple mead...   \n",
       "1  qags_xsum1  A 17th century pub in oxfordshire has been bou...   \n",
       "2  qags_xsum2  A 23-year-old man has died after being shot in...   \n",
       "3  qags_xsum3  A 52 million-year-old fruit fossil has been di...   \n",
       "4  qags_xsum4  A 55-year-old woman has died after a couple be...   \n",
       "\n",
       "                                      generated_text  label   cut  \\\n",
       "0  A 10,000-seater entertainment arena could be b...      0   val   \n",
       "1  A pub in a devon village is to reopen as a fre...      0   val   \n",
       "2  A 25-year-old man has been shot dead in sheffi...      0  test   \n",
       "3  The fossilised remains of a coal miner's apple...      0   val   \n",
       "4  A woman has been seriously injured after a lor...      0   val   \n",
       "\n",
       "  dataset_origin  \n",
       "0      qags_xsum  \n",
       "1      qags_xsum  \n",
       "2      qags_xsum  \n",
       "3      qags_xsum  \n",
       "4      qags_xsum  "
      ]
     },
     "execution_count": 5,
     "metadata": {},
     "output_type": "execute_result"
    }
   ],
   "source": [
    "# Directory where the CSV files are stored\n",
    "data_dir = os.path.join(os.path.dirname(os.getcwd()), 'data')\n",
    "\n",
    "# List all CSV files in the directory\n",
    "csv_files = [f for f in os.listdir(data_dir) if f.endswith('.csv')]\n",
    "\n",
    "# Load all CSV files into a single DataFrame\n",
    "df_list = []\n",
    "for file in csv_files:\n",
    "    file_path = os.path.join(data_dir, file)\n",
    "    df = pd.read_csv(file_path)\n",
    "    df_list.append(df)\n",
    "\n",
    "# Concatenate all DataFrames\n",
    "training_df = pd.concat(df_list, ignore_index=True)\n",
    "\n",
    "# Display the first few rows of the combined DataFrame\n",
    "training_df.head()"
   ]
  },
  {
   "cell_type": "code",
   "execution_count": 6,
   "id": "07cc00c0",
   "metadata": {},
   "outputs": [
    {
     "name": "stdout",
     "output_type": "stream",
     "text": [
      "cut\n",
      "val     83694\n",
      "test    38682\n",
      "Name: count, dtype: int64\n",
      "val can be used for training the model and test can be used for evaluation the performance\n"
     ]
    }
   ],
   "source": [
    "# Get the counts of val and test data\n",
    "val_test_spit = training_df['cut'].value_counts()\n",
    "\n",
    "# Display the counts\n",
    "print(val_test_spit)\n",
    "\n",
    "print(\"val can be used for training the model and test can be used for evaluation the performance\")"
   ]
  },
  {
   "cell_type": "code",
   "execution_count": 7,
   "id": "d27a5bcc",
   "metadata": {},
   "outputs": [
    {
     "data": {
      "text/plain": [
       "dataset_origin\n",
       "Vitamin C     63054\n",
       "HaluEval      20000\n",
       "Fever         19998\n",
       "PAWS           8000\n",
       "XSumFaith      2353\n",
       "SummEval       1698\n",
       "FactCC         1434\n",
       "FRANK          1393\n",
       "Polytope       1268\n",
       "Cao22           696\n",
       "CLIFF           600\n",
       "TofuEval        534\n",
       "Wang20          474\n",
       "samsum          250\n",
       "qags_xsum       239\n",
       "qags_cnndm      235\n",
       "Goyal21         150\n",
       "Name: count, dtype: int64"
      ]
     },
     "execution_count": 7,
     "metadata": {},
     "output_type": "execute_result"
    }
   ],
   "source": [
    "# Get the counts by dataset origin\n",
    "training_df['dataset_origin'].value_counts()"
   ]
  },
  {
   "cell_type": "code",
   "execution_count": null,
   "id": "f2dd390b",
   "metadata": {},
   "outputs": [],
   "source": []
  }
 ],
 "metadata": {
  "kernelspec": {
   "display_name": "Python [conda env:.conda-dsgt_cleff_simpltxt_2]",
   "language": "python",
   "name": "conda-env-.conda-dsgt_cleff_simpltxt_2-py"
  },
  "language_info": {
   "codemirror_mode": {
    "name": "ipython",
    "version": 3
   },
   "file_extension": ".py",
   "mimetype": "text/x-python",
   "name": "python",
   "nbconvert_exporter": "python",
   "pygments_lexer": "ipython3",
   "version": "3.13.2"
  }
 },
 "nbformat": 4,
 "nbformat_minor": 5
}
