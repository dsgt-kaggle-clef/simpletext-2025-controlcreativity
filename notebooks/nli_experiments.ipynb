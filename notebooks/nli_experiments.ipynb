{
 "cells": [
  {
   "cell_type": "code",
   "execution_count": null,
   "metadata": {},
   "outputs": [
    {
     "name": "stderr",
     "output_type": "stream",
     "text": [
      "[nltk_data] Downloading package punkt_tab to\n",
      "[nltk_data]     /storage/home/hcoda1/1/helwazzan3/nltk_data...\n",
      "[nltk_data]   Unzipping tokenizers/punkt_tab.zip.\n"
     ]
    },
    {
     "data": {
      "text/plain": [
       "True"
      ]
     },
     "execution_count": 2,
     "metadata": {},
     "output_type": "execute_result"
    }
   ],
   "source": [
    "import nltk\n",
    "nltk.download('punkt_tab')"
   ]
  },
  {
   "cell_type": "code",
   "execution_count": 3,
   "metadata": {},
   "outputs": [
    {
     "name": "stdout",
     "output_type": "stream",
     "text": [
      "<All keys matched successfully>\n"
     ]
    },
    {
     "name": "stderr",
     "output_type": "stream",
     "text": [
      "Downloading tokenizer_config.json: 100%|██████████| 217/217 [00:00<00:00, 892kB/s]\n",
      "Downloading config.json: 100%|██████████| 1.09k/1.09k [00:00<00:00, 5.33MB/s]\n",
      "Downloading spiece.model: 100%|██████████| 760k/760k [00:00<00:00, 17.4MB/s]\n",
      "Downloading (…)cial_tokens_map.json: 100%|██████████| 156/156 [00:00<00:00, 1.06MB/s]\n",
      "/storage/home/hcoda1/1/helwazzan3/miniconda3/envs/simpletext/lib/python3.13/site-packages/transformers/utils/generic.py:309: FutureWarning: `torch.utils._pytree._register_pytree_node` is deprecated. Please use `torch.utils._pytree.register_pytree_node` instead.\n",
      "  _torch_pytree._register_pytree_node(\n",
      "/storage/home/hcoda1/1/helwazzan3/miniconda3/envs/simpletext/lib/python3.13/site-packages/transformers/utils/generic.py:309: FutureWarning: `torch.utils._pytree._register_pytree_node` is deprecated. Please use `torch.utils._pytree.register_pytree_node` instead.\n",
      "  _torch_pytree._register_pytree_node(\n",
      "Downloading model.safetensors: 100%|██████████| 235M/235M [00:03<00:00, 76.0MB/s] \n",
      "/storage/home/hcoda1/1/helwazzan3/miniconda3/envs/simpletext/lib/python3.13/site-packages/summac/model_summac.py:298: UserWarning: Creating a tensor from a list of numpy.ndarrays is extremely slow. Please consider converting the list to a single numpy.ndarray with numpy.array() before converting to a tensor. (Triggered internally at /pytorch/torch/csrc/utils/tensor_new.cpp:254.)\n",
      "  histograms = torch.FloatTensor(histograms).to(self.device)\n"
     ]
    },
    {
     "name": "stdout",
     "output_type": "stream",
     "text": [
      "[Summary 1] SummaCZS Score: 0.582; SummacConv score: 0.536\n",
      "[Summary 2] SummaCZS Score: 0.877; SummacConv score: 0.709\n"
     ]
    }
   ],
   "source": [
    "from summac.model_summac import SummaCZS, SummaCConv\n",
    "\n",
    "model_zs = SummaCZS(granularity=\"sentence\", model_name=\"vitc\", device=\"cpu\") # If you have a GPU: switch to: device=\"cuda\"\n",
    "model_conv = SummaCConv(models=[\"vitc\"], bins='percentile', granularity=\"sentence\", nli_labels=\"e\", device=\"cpu\", start_file=\"default\", agg=\"mean\")\n",
    "\n",
    "document = \"\"\"Scientists are studying Mars to learn about the Red Planet and find landing sites for future missions.\n",
    "One possible site, known as Arcadia Planitia, is covered instrange sinuous features.\n",
    "The shapes could be signs that the area is actually made of glaciers, which are large masses of slow-moving ice.\n",
    "Arcadia Planitia is in Mars' northern lowlands.\"\"\"\n",
    "\n",
    "summary1 = \"There are strange shape patterns on Arcadia Planitia. The shapes could indicate the area might be made of glaciers. This makes Arcadia Planitia ideal for future missions.\"\n",
    "score_zs1 = model_zs.score([document], [summary1])\n",
    "score_conv1 = model_conv.score([document], [summary1])\n",
    "print(\"[Summary 1] SummaCZS Score: %.3f; SummacConv score: %.3f\" % (score_zs1[\"scores\"][0], score_conv1[\"scores\"][0])) # [Summary 1] SummaCZS Score: 0.582; SummacConv score: 0.536\n",
    "\n",
    "summary2 = \"There are strange shape patterns on Arcadia Planitia. The shapes could indicate the area might be made of glaciers.\"\n",
    "score_zs2 = model_zs.score([document], [summary2])\n",
    "score_conv2 = model_conv.score([document], [summary2])\n",
    "print(\"[Summary 2] SummaCZS Score: %.3f; SummacConv score: %.3f\" % (score_zs2[\"scores\"][0], score_conv2[\"scores\"][0])) # [Summary 2] SummaCZS Score: 0.877; SummacConv score: 0.709"
   ]
  },
  {
   "cell_type": "code",
   "execution_count": null,
   "metadata": {},
   "outputs": [],
   "source": [
    "import pandas as pd\n",
    "import os \n",
    "\n",
    "data_dir = os.path.join(os.path.dirname(os.getcwd()), 'data')\n",
    "\n",
    "val_df = pd.read_csv(os.path.join(data_dir, 'combined', 'val.csv'))\n",
    "test_df = pd.read_csv(os.path.join(data_dir, 'combined', 'test.csv'))"
   ]
  },
  {
   "cell_type": "code",
   "execution_count": null,
   "metadata": {},
   "outputs": [
    {
     "data": {
      "text/plain": [
       "(84152, 38224)"
      ]
     },
     "execution_count": 2,
     "metadata": {},
     "output_type": "execute_result"
    }
   ],
   "source": [
    "len(val_df), len(test_df) "
   ]
  },
  {
   "cell_type": "code",
   "execution_count": null,
   "metadata": {},
   "outputs": [
    {
     "data": {
      "text/plain": [
       "Index(['id', 'grounding', 'generated_text', 'label', 'cut', 'dataset_origin'], dtype='object')"
      ]
     },
     "execution_count": 3,
     "metadata": {},
     "output_type": "execute_result"
    }
   ],
   "source": [
    "val_df.columns"
   ]
  },
  {
   "cell_type": "code",
   "execution_count": null,
   "metadata": {},
   "outputs": [],
   "source": [
    "train_data = val_df[(val_df.cut == 'val') & (~val_df['dataset_origin'].isin(['Vitamin C', 'Fever']))]\n",
    "test_data = test_df[(test_df.cut == 'test') & (~test_df['dataset_origin'].isin(['Vitamin C', 'Fever']))]\n"
   ]
  },
  {
   "cell_type": "code",
   "execution_count": null,
   "metadata": {},
   "outputs": [
    {
     "data": {
      "text/plain": [
       "(25797, 13527)"
      ]
     },
     "execution_count": 5,
     "metadata": {},
     "output_type": "execute_result"
    }
   ],
   "source": [
    "len(train_data), len(test_data)"
   ]
  },
  {
   "cell_type": "code",
   "execution_count": null,
   "metadata": {},
   "outputs": [
    {
     "data": {
      "text/plain": [
       "Index(['id', 'grounding', 'generated_text', 'label', 'cut', 'dataset_origin'], dtype='object')"
      ]
     },
     "execution_count": 6,
     "metadata": {},
     "output_type": "execute_result"
    }
   ],
   "source": [
    "train_data.columns"
   ]
  },
  {
   "cell_type": "code",
   "execution_count": null,
   "metadata": {},
   "outputs": [
    {
     "data": {
      "text/html": [
       "<div>\n",
       "<style scoped>\n",
       "    .dataframe tbody tr th:only-of-type {\n",
       "        vertical-align: middle;\n",
       "    }\n",
       "\n",
       "    .dataframe tbody tr th {\n",
       "        vertical-align: top;\n",
       "    }\n",
       "\n",
       "    .dataframe thead th {\n",
       "        text-align: right;\n",
       "    }\n",
       "</style>\n",
       "<table border=\"1\" class=\"dataframe\">\n",
       "  <thead>\n",
       "    <tr style=\"text-align: right;\">\n",
       "      <th></th>\n",
       "      <th>id</th>\n",
       "      <th>grounding</th>\n",
       "      <th>generated_text</th>\n",
       "      <th>label</th>\n",
       "      <th>cut</th>\n",
       "      <th>dataset_origin</th>\n",
       "    </tr>\n",
       "  </thead>\n",
       "  <tbody>\n",
       "    <tr>\n",
       "      <th>0</th>\n",
       "      <td>qags_cnndm1</td>\n",
       "      <td>( cnn ) after more than nine years of travelin...</td>\n",
       "      <td>New horizons will shed light on a third zone o...</td>\n",
       "      <td>1</td>\n",
       "      <td>val</td>\n",
       "      <td>qags_cnndm</td>\n",
       "    </tr>\n",
       "  </tbody>\n",
       "</table>\n",
       "</div>"
      ],
      "text/plain": [
       "            id                                          grounding  \\\n",
       "0  qags_cnndm1  ( cnn ) after more than nine years of travelin...   \n",
       "\n",
       "                                      generated_text  label  cut  \\\n",
       "0  New horizons will shed light on a third zone o...      1  val   \n",
       "\n",
       "  dataset_origin  \n",
       "0     qags_cnndm  "
      ]
     },
     "execution_count": 7,
     "metadata": {},
     "output_type": "execute_result"
    }
   ],
   "source": [
    "train_data.head(1)"
   ]
  },
  {
   "cell_type": "code",
   "execution_count": null,
   "metadata": {},
   "outputs": [],
   "source": [
    "train_grounding_list = list(train_data['grounding'])\n",
    "train_generated_list = list(train_data['generated_text'])\n",
    "\n",
    "test_grounding_list = list(test_data['grounding'])\n",
    "test_generated_list = list(test_data['generated_text'])"
   ]
  },
  {
   "cell_type": "code",
   "execution_count": null,
   "metadata": {},
   "outputs": [
    {
     "data": {
      "text/plain": [
       "\"( cnn ) after more than nine years of traveling through the solar system, nasa's new horizons spacecraft has sent back its first color image of pluto. The initial picture released on tuesday shows a couple of orange - tinged blobs : pluto and its largest moon, charon. But the probe will soon be beaming back much sharper images and a wealth of other information about pluto's remote, unexplored corner of the solar system. ` `this is pure exploration ; we're going to turn points of light into a planet and a system of moons before your eyes,'' said alan stern, new horizons' principal investigator. Launched in 2006, new horizons is nearing the crucial point in its epic voyage of more than 3 billion miles. The probe is due to make its closest approach to pluto on july 14. ` `in an unprecedented flyby this july, our knowledge of what the pluto system is really like will expand exponentially, and i have no doubt there will be exciting discoveries,'' said john grunsfeld, an astronaut and associate administrator of the nasa science mission directorate. Discovered in 1930, pluto was once considered to be the smallest planet in the solar system. But scientists have since revised that view because of pluto's size and location, demoting it to the status of `` dwarf planet'' : a planet that's too small to clear other objects out of its way. Pluto is 1, 400 miles wide, roughly half the width of the continental united states. At 3. 6 billion miles out in the solar system, it's about 40 times as far from the sun as earth is. By discovering more about pluto and its moons, new horizons will shed light on a little - known third zone of the solar system, beyond the rocky planets and the gas giants. The area, known as the kuiper belt, contains `` mysterious small planets and planetary building blocks,'' according\""
      ]
     },
     "execution_count": 9,
     "metadata": {},
     "output_type": "execute_result"
    }
   ],
   "source": [
    "train_grounding_list[0]"
   ]
  },
  {
   "cell_type": "code",
   "execution_count": null,
   "metadata": {},
   "outputs": [
    {
     "data": {
      "text/plain": [
       "'New horizons will shed light on a third zone of the solar system. Pluto and its largest moon, charon. The probe is due to make its closest approach to pluto on july 14.'"
      ]
     },
     "execution_count": 10,
     "metadata": {},
     "output_type": "execute_result"
    }
   ],
   "source": [
    "train_generated_list[0]"
   ]
  },
  {
   "cell_type": "code",
   "execution_count": null,
   "metadata": {},
   "outputs": [
    {
     "name": "stderr",
     "output_type": "stream",
     "text": [
      "/storage/home/hcoda1/1/helwazzan3/miniconda3/envs/simpletext/lib/python3.13/site-packages/tqdm/auto.py:21: TqdmWarning: IProgress not found. Please update jupyter and ipywidgets. See https://ipywidgets.readthedocs.io/en/stable/user_install.html\n",
      "  from .autonotebook import tqdm as notebook_tqdm\n",
      "/storage/home/hcoda1/1/helwazzan3/miniconda3/envs/simpletext/lib/python3.13/site-packages/transformers/utils/generic.py:441: FutureWarning: `torch.utils._pytree._register_pytree_node` is deprecated. Please use `torch.utils._pytree.register_pytree_node` instead.\n",
      "  _torch_pytree._register_pytree_node(\n"
     ]
    },
    {
     "name": "stdout",
     "output_type": "stream",
     "text": [
      "<All keys matched successfully>\n"
     ]
    },
    {
     "name": "stderr",
     "output_type": "stream",
     "text": [
      "/storage/home/hcoda1/1/helwazzan3/miniconda3/envs/simpletext/lib/python3.13/site-packages/transformers/utils/generic.py:309: FutureWarning: `torch.utils._pytree._register_pytree_node` is deprecated. Please use `torch.utils._pytree.register_pytree_node` instead.\n",
      "  _torch_pytree._register_pytree_node(\n",
      "/storage/home/hcoda1/1/helwazzan3/miniconda3/envs/simpletext/lib/python3.13/site-packages/transformers/utils/generic.py:309: FutureWarning: `torch.utils._pytree._register_pytree_node` is deprecated. Please use `torch.utils._pytree.register_pytree_node` instead.\n",
      "  _torch_pytree._register_pytree_node(\n",
      "/storage/home/hcoda1/1/helwazzan3/miniconda3/envs/simpletext/lib/python3.13/site-packages/summac/model_summac.py:298: UserWarning: Creating a tensor from a list of numpy.ndarrays is extremely slow. Please consider converting the list to a single numpy.ndarray with numpy.array() before converting to a tensor. (Triggered internally at /pytorch/torch/csrc/utils/tensor_new.cpp:254.)\n",
      "  histograms = torch.FloatTensor(histograms).to(self.device)\n"
     ]
    },
    {
     "name": "stdout",
     "output_type": "stream",
     "text": [
      "Score: 0.791\n"
     ]
    }
   ],
   "source": [
    "from summac.model_summac import SummaCConv\n",
    "# one-shot using the summac summacconv model\n",
    "import torch\n",
    "device = torch.device(\"cuda\" if torch.cuda.is_available() else \"cpu\")\n",
    "model_conv = SummaCConv(models=[\"vitc\"], bins='percentile', granularity=\"sentence\", nli_labels=\"e\", device=device, start_file=\"default\", agg=\"mean\")\n",
    "\n",
    "scores = []\n",
    "for grounding, generated in zip(train_grounding_list, train_generated_list):\n",
    "    score_conv = model_conv.score([grounding], [generated])\n",
    "    print(\"Score: %.3f\" % (score_conv[\"scores\"][0])) \n",
    "    scores.append(score_conv[\"scores\"][0])\n",
    "print(\"Average score: %.3f\" % (sum(scores)/len(scores))) "
   ]
  }
 ],
 "metadata": {
  "kernelspec": {
   "display_name": "simpletext",
   "language": "python",
   "name": "python3"
  },
  "language_info": {
   "codemirror_mode": {
    "name": "ipython",
    "version": 3
   },
   "file_extension": ".py",
   "mimetype": "text/x-python",
   "name": "python",
   "nbconvert_exporter": "python",
   "pygments_lexer": "ipython3",
   "version": "3.13.2"
  }
 },
 "nbformat": 4,
 "nbformat_minor": 2
}
